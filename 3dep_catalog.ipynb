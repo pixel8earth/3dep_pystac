{
 "cells": [
  {
   "cell_type": "code",
   "execution_count": 1,
   "metadata": {},
   "outputs": [],
   "source": [
    "import requests\n",
    "import pystac\n",
    "import datetime\n",
    "import json"
   ]
  },
  {
   "cell_type": "code",
   "execution_count": 25,
   "metadata": {},
   "outputs": [],
   "source": [
    "# initialize a new STAC cat\n",
    "\n",
    "catalog = pystac.Catalog('3dep', \n",
    "                         'A catalog of USGS 3DEP Lidar hosted on AWS s3.',\n",
    "                         href='https://3dep-stac.s3.amazonaws.com/catalog.json',\n",
    "                         stac_extensions=['POINTCLOUD'])"
   ]
  },
  {
   "cell_type": "code",
   "execution_count": 5,
   "metadata": {},
   "outputs": [],
   "source": [
    "# fetch the boundaries as geojson\n",
    "\n",
    "boundaries = requests.get('https://raw.githubusercontent.com/hobu/usgs-lidar/master/boundaries/resources.geojson').json()"
   ]
  },
  {
   "cell_type": "code",
   "execution_count": 8,
   "metadata": {},
   "outputs": [],
   "source": [
    "from shapely.geometry import shape, mapping\n",
    "from pathlib import Path\n",
    "from tqdm import tqdm \n",
    "\n",
    "base = Path('./STAC/3dep')\n",
    "base.mkdirs(exist_ok=True, parents=True)\n",
    "\n",
    "data = []\n",
    "\n",
    "for f in tqdm(boundaries['features'], ncols=100):\n",
    "    props = f['properties']\n",
    "    geom = shape(f['geometry'])\n",
    "    ept = requests.get(props['url']).json()\n",
    "    data.append((props, geom, ept))"
   ]
  },
  {
   "cell_type": "code",
   "execution_count": 28,
   "metadata": {},
   "outputs": [
    {
     "name": "stderr",
     "output_type": "stream",
     "text": [
      "100%|██████████████████████████████████████████████████████████| 1270/1270 [00:01<00:00, 941.36it/s]\n"
     ]
    }
   ],
   "source": [
    "# loop over the features and create a stac item for each...\n",
    "\n",
    "for f in tqdm(data, ncols=100):\n",
    "    props, geom, ept = f\n",
    "    \n",
    "    item = pystac.Item(props['name'], \n",
    "                       mapping(geom), \n",
    "                       list(geom.bounds), \n",
    "                       datetime.datetime.now(), \n",
    "                       {'description': 'A USGS Lidar pointcloud in entwine format'})\n",
    "    \n",
    "    item.ext.enable(pystac.Extensions.POINTCLOUD)\n",
    "    item.ext.pointcloud.apply(props['count'], 'lidar', 'entwine', ept['schema'], epsg='EPSG:3857')\n",
    "    \n",
    "    asset = pystac.Asset(props['url'], 'entwine', 'The ept.json for accessing data')\n",
    "    item.add_asset('ept.json', asset)\n",
    "\n",
    "    item_link = pystac.Link('self', f'https://3dep-stac.s3.amazonaws.com/{props[\"name\"]}.json')\n",
    "    item_parent = pystac.Link('parent', f'https://3dep-stac.s3.amazonaws.com/catalog.json')\n",
    "    item.add_links([item_link, item_parent])\n",
    "\n",
    "    with open(base / f\"{props['name']}.json\", 'w') as f:\n",
    "        d = item.to_dict()\n",
    "        json.dump(d, f)\n",
    "\n",
    "    link = pystac.Link('item', f'https://3dep-stac.s3.amazonaws.com/{props[\"name\"]}.json')\n",
    "    catalog.add_link(link)\n",
    "\n",
    "with open(base / \"catalog.json\", 'w') as f:\n",
    "    json.dump(catalog.to_dict(), f)"
   ]
  },
  {
   "cell_type": "code",
   "execution_count": null,
   "metadata": {},
   "outputs": [],
   "source": []
  },
  {
   "cell_type": "code",
   "execution_count": null,
   "metadata": {},
   "outputs": [],
   "source": []
  }
 ],
 "metadata": {
  "kernelspec": {
   "display_name": "Python 3",
   "language": "python",
   "name": "python3"
  },
  "language_info": {
   "codemirror_mode": {
    "name": "ipython",
    "version": 3
   },
   "file_extension": ".py",
   "mimetype": "text/x-python",
   "name": "python",
   "nbconvert_exporter": "python",
   "pygments_lexer": "ipython3",
   "version": "3.7.3"
  }
 },
 "nbformat": 4,
 "nbformat_minor": 4
}
